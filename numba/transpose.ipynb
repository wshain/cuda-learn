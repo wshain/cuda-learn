{
 "cells": [
  {
   "cell_type": "markdown",
   "id": "e98e316f",
   "metadata": {},
   "source": [
    "<img src =\"../static/numba.png\"></img>"
   ]
  },
  {
   "cell_type": "code",
   "execution_count": 85,
   "id": "b4c13426",
   "metadata": {},
   "outputs": [],
   "source": [
    "from numba import cuda\n",
    "import numba\n",
    "import numpy as np\n",
    "\n",
    "TILE_DIM = 32\n",
    "BLOCK_ROWS = 8\n",
    "MX = 2048\n",
    "MY = 2048\n"
   ]
  },
  {
   "cell_type": "code",
   "execution_count": 86,
   "id": "67fe4e56",
   "metadata": {},
   "outputs": [],
   "source": [
    "@cuda.jit\n",
    "def transpose(odata, idata):\n",
    "    tile = cuda.shared.array((TILE_DIM, TILE_DIM), numba.types.float32)\n",
    "    x = cuda.blockIdx.x * TILE_DIM + cuda.threadIdx.x\n",
    "    y = cuda.blockIdx.y * TILE_DIM + cuda.threadIdx.y\n",
    "    w = cuda.gridDim.x * TILE_DIM\n",
    "\n",
    "    if x >= MX or y >= MY:\n",
    "        return  \n",
    "    \n",
    "    for i in range(0, TILE_DIM, BLOCK_ROWS):\n",
    "        tile[cuda.threadIdx.y + i, cuda.threadIdx.x]  = idata[y + i, x]\n",
    "    \n",
    "    cuda.syncthreads();\n",
    "    x = cuda.blockIdx.y * TILE_DIM + cuda.threadIdx.x\n",
    "    y = cuda.blockIdx.x * TILE_DIM + cuda.threadIdx.y\n",
    "\n",
    "    for  i in range (0, TILE_DIM, BLOCK_ROWS):\n",
    "        odata[y + i, x] = tile[cuda.threadIdx.x, cuda.threadIdx.y + i]\n"
   ]
  },
  {
   "cell_type": "code",
   "execution_count": 87,
   "id": "09361ba9",
   "metadata": {},
   "outputs": [],
   "source": [
    "threads = (TILE_DIM, BLOCK_ROWS)\n",
    "blocks = ((MX + TILE_DIM - 1) // TILE_DIM, (MY + TILE_DIM - 1) // TILE_DIM)\n",
    "\n",
    "a_in = cuda.to_device(np.arange(MX*MY, dtype=np.float32).reshape(MX, MY))\n",
    "a_out = cuda.device_array_like(a_in)"
   ]
  },
  {
   "cell_type": "code",
   "execution_count": 88,
   "id": "6714bef1",
   "metadata": {},
   "outputs": [
    {
     "name": "stdout",
     "output_type": "stream",
     "text": [
      "[[0.000000e+00 1.000000e+00 2.000000e+00 ... 2.045000e+03 2.046000e+03\n",
      "  2.047000e+03]\n",
      " [2.048000e+03 2.049000e+03 2.050000e+03 ... 4.093000e+03 4.094000e+03\n",
      "  4.095000e+03]\n",
      " [4.096000e+03 4.097000e+03 4.098000e+03 ... 6.141000e+03 6.142000e+03\n",
      "  6.143000e+03]\n",
      " ...\n",
      " [4.188160e+06 4.188161e+06 4.188162e+06 ... 4.190205e+06 4.190206e+06\n",
      "  4.190207e+06]\n",
      " [4.190208e+06 4.190209e+06 4.190210e+06 ... 4.192253e+06 4.192254e+06\n",
      "  4.192255e+06]\n",
      " [4.192256e+06 4.192257e+06 4.192258e+06 ... 4.194301e+06 4.194302e+06\n",
      "  4.194303e+06]]\n"
     ]
    }
   ],
   "source": [
    "print(a_in.copy_to_host())"
   ]
  },
  {
   "cell_type": "code",
   "execution_count": 89,
   "id": "17ad284a",
   "metadata": {},
   "outputs": [
    {
     "name": "stdout",
     "output_type": "stream",
     "text": [
      "116 μs ± 1.27 μs per loop (mean ± std. dev. of 7 runs, 10,000 loops each)\n"
     ]
    }
   ],
   "source": [
    "%timeit transpose[blocks, threads](a_out, a_in); cuda.synchronize()"
   ]
  },
  {
   "cell_type": "code",
   "execution_count": 90,
   "id": "9daf9655",
   "metadata": {},
   "outputs": [
    {
     "name": "stdout",
     "output_type": "stream",
     "text": [
      "[[0.000000e+00 2.048000e+03 4.096000e+03 ... 4.188160e+06 4.190208e+06\n",
      "  4.192256e+06]\n",
      " [1.000000e+00 2.049000e+03 4.097000e+03 ... 4.188161e+06 4.190209e+06\n",
      "  4.192257e+06]\n",
      " [2.000000e+00 2.050000e+03 4.098000e+03 ... 4.188162e+06 4.190210e+06\n",
      "  4.192258e+06]\n",
      " ...\n",
      " [2.045000e+03 4.093000e+03 6.141000e+03 ... 4.190205e+06 4.192253e+06\n",
      "  4.194301e+06]\n",
      " [2.046000e+03 4.094000e+03 6.142000e+03 ... 4.190206e+06 4.192254e+06\n",
      "  4.194302e+06]\n",
      " [2.047000e+03 4.095000e+03 6.143000e+03 ... 4.190207e+06 4.192255e+06\n",
      "  4.194303e+06]]\n"
     ]
    }
   ],
   "source": [
    "print(a_out.copy_to_host())"
   ]
  },
  {
   "cell_type": "code",
   "execution_count": 91,
   "id": "7d05d9aa",
   "metadata": {},
   "outputs": [],
   "source": [
    "from numpy import testing\n",
    "\n",
    "res = np.transpose(a_in.copy_to_host())\n",
    "testing.assert_almost_equal(res, a_out.copy_to_host())"
   ]
  },
  {
   "cell_type": "code",
   "execution_count": 92,
   "id": "1723f7e1",
   "metadata": {},
   "outputs": [],
   "source": [
    "@cuda.jit\n",
    "def transpose2(odata, idata):\n",
    "    tile = cuda.shared.array((32, 32 + 1), numba.types.float32)\n",
    "    x = cuda.blockIdx.x * TILE_DIM + cuda.threadIdx.x\n",
    "    y = cuda.blockIdx.y * TILE_DIM + cuda.threadIdx.y\n",
    "    w = cuda.gridDim.x * TILE_DIM\n",
    "\n",
    "    if x >= MX or y >= MY:\n",
    "        return  \n",
    "    \n",
    "    for i in range(0, TILE_DIM, BLOCK_ROWS):\n",
    "        tile[cuda.threadIdx.y + i, cuda.threadIdx.x]  = idata[y + i, x]\n",
    "    \n",
    "    cuda.syncthreads();\n",
    "    x = cuda.blockIdx.y * TILE_DIM + cuda.threadIdx.x\n",
    "    y = cuda.blockIdx.x * TILE_DIM + cuda.threadIdx.y\n",
    "\n",
    "    for  i in range (0, TILE_DIM, BLOCK_ROWS):\n",
    "        odata[y + i, x] = tile[cuda.threadIdx.x, cuda.threadIdx.y + i]\n"
   ]
  },
  {
   "cell_type": "code",
   "execution_count": 93,
   "id": "34285023",
   "metadata": {},
   "outputs": [
    {
     "name": "stdout",
     "output_type": "stream",
     "text": [
      "87.4 μs ± 737 ns per loop (mean ± std. dev. of 7 runs, 10,000 loops each)\n"
     ]
    }
   ],
   "source": [
    "%timeit transpose2[blocks, threads](a_out, a_in); cuda.synchronize()"
   ]
  }
 ],
 "metadata": {
  "kernelspec": {
   "display_name": "base",
   "language": "python",
   "name": "python3"
  },
  "language_info": {
   "codemirror_mode": {
    "name": "ipython",
    "version": 3
   },
   "file_extension": ".py",
   "mimetype": "text/x-python",
   "name": "python",
   "nbconvert_exporter": "python",
   "pygments_lexer": "ipython3",
   "version": "3.12.7"
  }
 },
 "nbformat": 4,
 "nbformat_minor": 5
}
